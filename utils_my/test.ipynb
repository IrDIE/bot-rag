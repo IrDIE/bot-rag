{
 "cells": [
  {
   "cell_type": "code",
   "execution_count": 2,
   "metadata": {},
   "outputs": [
    {
     "name": "stdout",
     "output_type": "stream",
     "text": [
      "True\n",
      "True\n",
      "False\n",
      "<html>\n",
      "  <head>\n",
      "    <style global>body{font-family:Arial,Helvetica,sans-serif}.container{align-items:center;display:flex;flex-direction:column;gap:2rem;height:100%;justify-content:center;width:100%}@keyframes enlarge-appear{0%{opacity:0;transform:scale(75%) rotate(-90deg)}to{opacity:1;transform:scale(100%) rotate(0deg)}}.logo{color:#8e8ea0}.scale-appear{animation:enlarge-appear .4s ease-out}@media (min-width:768px){.scale-appear{height:48px;width:48px}}.data:empty{display:none}.data{border-radius:5px;color:#8e8ea0;text-align:center}@media (prefers-color-scheme:dark){body{background-color:#343541}.logo{color:#acacbe}}</style>\n",
      "  <meta http-equiv=\"refresh\" content=\"390\">\n",
      "</head>\n",
      "  <body>\n",
      "    <div class=\"container\">\n",
      "      <div class=\"logo\">\n",
      "        <svg\n",
      "          width=\"41\"\n",
      "          height=\"41\"\n",
      "          viewBox=\"0 0 41 41\"\n",
      "          fill=\"none\"\n",
      "          xmlns=\"http://www.w3.org/2000/svg\"\n",
      "          strokeWidth=\"2\"\n",
      "          class=\"scale-appear\"\n",
      "        >\n",
      "          <path\n",
      "            d=\"M37.5324 16.8707C37.9808 15.5241 38.1363 14.0974 37.9886 12.6859C37.8409 11.2744 37.3934 9.91076 36.676 8.68622C35.6126 6.83404 33.9882 5.3676 32.0373 4.4985C30.0864 3.62941 27.9098 3.40259 25.8215 3.85078C24.8796 2.7893 23.7219 1.94125 22.4257 1.36341C21.1295 0.785575 19.7249 0.491269 18.3058 0.500197C16.1708 0.495044 14.0893 1.16803 12.3614 2.42214C10.6335 3.67624 9.34853 5.44666 8.6917 7.47815C7.30085 7.76286 5.98686 8.3414 4.8377 9.17505C3.68854 10.0087 2.73073 11.0782 2.02839 12.312C0.956464 14.1591 0.498905 16.2988 0.721698 18.4228C0.944492 20.5467 1.83612 22.5449 3.268 24.1293C2.81966 25.4759 2.66413 26.9026 2.81182 28.3141C2.95951 29.7256 3.40701 31.0892 4.12437 32.3138C5.18791 34.1659 6.8123 35.6322 8.76321 36.5013C10.7141 37.3704 12.8907 37.5973 14.9789 37.1492C15.9208 38.2107 17.0786 39.0587 18.3747 39.6366C19.6709 40.2144 21.0755 40.5087 22.4946 40.4998C24.6307 40.5054 26.7133 39.8321 28.4418 38.5772C30.1704 37.3223 31.4556 35.5506 32.1119 33.5179C33.5027 33.2332 34.8167 32.6547 35.9659 31.821C37.115 30.9874 38.0728 29.9178 38.7752 28.684C39.8458 26.8371 40.3023 24.6979 40.0789 22.5748C39.8556 20.4517 38.9639 18.4544 37.5324 16.8707ZM22.4978 37.8849C20.7443 37.8874 19.0459 37.2733 17.6994 36.1501C17.7601 36.117 17.8666 36.0586 17.936 36.0161L25.9004 31.4156C26.1003 31.3019 26.2663 31.137 26.3813 30.9378C26.4964 30.7386 26.5563 30.5124 26.5549 30.2825V19.0542L29.9213 20.998C29.9389 21.0068 29.9541 21.0198 29.9656 21.0359C29.977 21.052 29.9842 21.0707 29.9867 21.0902V30.3889C29.9842 32.375 29.1946 34.2791 27.7909 35.6841C26.3872 37.0892 24.4838 37.8806 22.4978 37.8849ZM6.39227 31.0064C5.51397 29.4888 5.19742 27.7107 5.49804 25.9832C5.55718 26.0187 5.66048 26.0818 5.73461 26.1244L13.699 30.7248C13.8975 30.8408 14.1233 30.902 14.3532 30.902C14.583 30.902 14.8088 30.8408 15.0073 30.7248L24.731 25.1103V28.9979C24.7321 29.0177 24.7283 29.0376 24.7199 29.0556C24.7115 29.0736 24.6988 29.0893 24.6829 29.1012L16.6317 33.7497C14.9096 34.7416 12.8643 35.0097 10.9447 34.4954C9.02506 33.9811 7.38785 32.7263 6.39227 31.0064ZM4.29707 13.6194C5.17156 12.0998 6.55279 10.9364 8.19885 10.3327C8.19885 10.4013 8.19491 10.5228 8.19491 10.6071V19.808C8.19351 20.0378 8.25334 20.2638 8.36823 20.4629C8.48312 20.6619 8.64893 20.8267 8.84863 20.9404L18.5723 26.5542L15.206 28.4979C15.1894 28.5089 15.1703 28.5155 15.1505 28.5173C15.1307 28.5191 15.1107 28.516 15.0924 28.5082L7.04046 23.8557C5.32135 22.8601 4.06716 21.2235 3.55289 19.3046C3.03862 17.3858 3.30624 15.3413 4.29707 13.6194ZM31.955 20.0556L22.2312 14.4411L25.5976 12.4981C25.6142 12.4872 25.6333 12.4805 25.6531 12.4787C25.6729 12.4769 25.6928 12.4801 25.7111 12.4879L33.7631 17.1364C34.9967 17.849 36.0017 18.8982 36.6606 20.1613C37.3194 21.4244 37.6047 22.849 37.4832 24.2684C37.3617 25.6878 36.8382 27.0432 35.9743 28.1759C35.1103 29.3086 33.9415 30.1717 32.6047 30.6641C32.6047 30.5947 32.6047 30.4733 32.6047 30.3889V21.188C32.6066 20.9586 32.5474 20.7328 32.4332 20.5338C32.319 20.3348 32.154 20.1698 31.955 20.0556ZM35.3055 15.0128C35.2464 14.9765 35.1431 14.9142 35.069 14.8717L27.1045 10.2712C26.906 10.1554 26.6803 10.0943 26.4504 10.0943C26.2206 10.0943 25.9948 10.1554 25.7963 10.2712L16.0726 15.8858V11.9982C16.0715 11.9783 16.0753 11.9585 16.0837 11.9405C16.0921 11.9225 16.1048 11.9068 16.1207 11.8949L24.1719 7.25025C25.4053 6.53903 26.8158 6.19376 28.2383 6.25482C29.6608 6.31589 31.0364 6.78077 32.2044 7.59508C33.3723 8.40939 34.2842 9.53945 34.8334 10.8531C35.3826 12.1667 35.5464 13.6095 35.3055 15.0128ZM14.2424 21.9419L10.8752 19.9981C10.8576 19.9893 10.8423 19.9763 10.8309 19.9602C10.8195 19.9441 10.8122 19.9254 10.8098 19.9058V10.6071C10.8107 9.18295 11.2173 7.78848 11.9819 6.58696C12.7466 5.38544 13.8377 4.42659 15.1275 3.82264C16.4173 3.21869 17.8524 2.99464 19.2649 3.1767C20.6775 3.35876 22.0089 3.93941 23.1034 4.85067C23.0427 4.88379 22.937 4.94215 22.8668 4.98473L14.9024 9.58517C14.7025 9.69878 14.5366 9.86356 14.4215 10.0626C14.3065 10.2616 14.2466 10.4877 14.2479 10.7175L14.2424 21.9419ZM16.071 17.9991L20.4018 15.4978L24.7325 17.9975V22.9985L20.4018 25.4983L16.071 22.9985V17.9991Z\"\n",
      "            fill=\"currentColor\"\n",
      "          />\n",
      "        </svg>\n",
      "      </div>\n",
      "      <div class=\"data\"><div class=\"main-wrapper\" role=\"main\"><div class=\"main-content\"><noscript><div class=\"h2\"><span id=\"challenge-error-text\">Enable JavaScript and cookies to continue</span></div></noscript></div></div><script>(function(){window._cf_chl_opt={cvId: '3',cZone: \"platform.openai.com\",cType: 'managed',cRay: '90a72f21bff1db5b',cH: 'MHDLnKD3hRF3muMBrEmmocTFnGAG6dCOD_P4Fe1hiIs-1738300109-1.2.1.1-Bx34ebIaUZArwRNcA2o4nQGx03JNdZEBZ1v6Zwba1OjGsQ9A_8iOCe4otvpm9KM2',cUPMDTk: \"\\/?__cf_chl_tk=G6L_AKPNIm12X34h86zivVNEV1ylHr3YK.2ra5hW3qY-1738300109-1.0.1.1-PGlCJBI5Fshd6asvRcZzQyaCFDAfKT9GlvG3iRx5TSs\",cFPWv: 'b',cITimeS: '1738300109',cTTimeMs: '1000',cMTimeMs: '390000',cTplC: 1,cTplV: 5,cTplB: 'cf',cK: \"\",fa: \"\\/?__cf_chl_f_tk=G6L_AKPNIm12X34h86zivVNEV1ylHr3YK.2ra5hW3qY-1738300109-1.0.1.1-PGlCJBI5Fshd6asvRcZzQyaCFDAfKT9GlvG3iRx5TSs\",md: \".an6sg6d8mAzhe5fuvrrDrsA6PNVPVS.HXxewt..yZA-1738300109-1.2.1.1-jrvaYZvNQsPDaEhS9N7ySuCF6FHaObbtXQgzIkXQZdcJS0fpoIYvIAxygikIoNlE1yCj4S.Tk5TDP.p9Xydvy76WMUKp_CqnXtAnHWggxEpRHvMKFiPU8OZfndzwSfsBR2xGjXRfDIryooywRrno0hPLE_L2OPw3_LNz94mfzmLYSotB.IR4g5Lgu1k6M4vF0bsVio_nMV3NwtIZqOFKIKJYRUTBjWFFv2qgJhjk9YC0hYHeJ39uggju7YeDNdg0K4kxwPIlWCvHtVFbFN_rV4KOlpE4gXFs9z0tGGFXbWPA3bA8qYfycLAEAuROd3nhsQGXZTjF2EgFk4n1aLraQvk4HoGgF.sHZuviVmwLvsvwEwNxHwbsjk3j1FP17BZWnWjlytVS83kx0yjBlgJmptGibimbNxxTwhdzCMUwNlvuEdJ1YwCJfHZeqb1AWPbgNYLjqjx7bx9uJdyU1g8LP0CzyPIcSqR.A7lEsaLS2EVYe_1wZVjyJJGJKbC2n5sEra1jK8.wSRWt48LzpTRKsA9CKXHjvrAZT8v3Xyp271AyDIrzPjcQ4G6trVOP_TakN3aHOBIBkF0q._oxG4vLJXRZXSYVzp5MtZUAArlGSFSLPA4mDpLOtRx7W7eBCI4S8cpGU1jbCjhtrq0jQ5ypVWrN5cJNMpy4DJidwlUS8Fo3BIHHm6zTirO_NkjRSCupOnMjAV2IuezFKeMrlQY4lAUR..0s736hTr55db1gNIgQWjkHxrM3X25HgDZ38jN.5aHbngiLAHyH9JBv__EKVLJIsf2_.BYDc_._qJd_n6eskyxI272k7HF_JpYnQT2J45DM_rG71DAkTNUaIP56VpmzkZU7F9HZ0ma205i5Dn6tShP8ew90vSo8Qm2lusTHCDdwbx2E_a_Lf8jL3Zwa3T1ykIvNTPrOT8yTMDP6w7QZBdncZBb9ySTZujbxzft.GDgM1hEBIaJihm6HwrtFUgrpDpFsvNHixhmEhJGprOMenWD3x.5.6JUtpWQtXYvZCY5NIKqDipfWDz1IRtiya9CBZDt7LQdtIPgLucuraHh5TwsAPVusWT_lE__u8lI31I054kGyw1A6M2p0D64qg37Fr.JMxRD97p8PI_cosaqo2WcpIl3F87LRQMW9nc0334FO6kirrb8NUQwI.ZxzP.f._.OI24.73p006CU6saQI36PIdxSCD28pPJy4ntx0QkaFtVtzoiprHDtazQx8jBy1SzLL_.PFsyl94IulLEis0KDRCDNPAMKJhP5SuY8qlLJSayLtoq6KY9O3RmQKZ7OzoGcVgslRsBQVv8JRQJ.bed3BzdqBcyOeOB2ncUlOCEPAhdPbk9nePft219Crvvc_7csKpnAaz1aryqTA.0El9AJqZ5i8VYFxEIOv6uNtxkicyI_zEfgOAEYZd.fYexvODboDOZDu7zcwPAC.0qCauSVyb7URKx38KlroyF4qS8.UrYeQ8Z.FE6BBq3gBnRGOHlVTTboaXdWl0cUN0YvwO2VGag9Ym.3ZlAot.S6T3yUOpg8FNli9GsnoZNjqjuuv..pOR0brgLj7_xa_VCnZi3NXvhnV8hn_uJ8JwYz_hSlWp3E098quPkLru7XxwTuLApz7wiy68.B.kKeePIbBn_VHfXM5IQAvQErS25s.uL_QBeiuMZiCkGtCKV1hr3k2HJPDqhc8epLj7mUYh4v6kfiVoFGKLPq9fUsINVK9fqhBLsS.hEi1z.H1ArELUQ3QuMjrKxowWryf9VRhMR3cLrbEU4KLDeTMtCUXAApEfdPLGBbCz73v2RXbV41RBi_fh8j0DRERGmIFEkhs0Th2eUFRnIDzp0983lA5sN4NIldz9wUEJTHdXechhUyOqwbBK_dJjVGErf3KjwDIojADb03ZDvmYwp7O9t8awaoMUKhXIamFjti7ekQw..AtaAMWf6uPsnpN08u8JZUNxhiBrW1Ubky3QlDoqJ7Z1PHVAoS3njpxH7o.jzkyopPwnhqlVdwHhoGKyRdGjPTZYSwxoTI6VBIDP2ePeNMjoPrqrVLWJWlBMoEVAbA.zyGjDs3eC5bFId5XBLAOECrYR48yfYKze1b4NzhoPhLOq9y3F.wmSD1en4PCB_y0Y_EKzqs4rkvTNBbpnGbZjRJoCDpdDeyEExdsjP49hoPVeOUVMq54f7Kyizau6sUBVs.x0bbBwWzqv.o4nNZMQwcTIWZS638WuOv12zRMddy0KjS9MSLEyc7qkFXthEJf9tH0.nkUsp4VXj9_LnW7uMAvng1IgLdtV.07NlumGAb73xS2eoB3zEHbCOobSuee1pKqdg\",mdrd: \"5gF95MJAFnVDG_deLSkp6IoZjRkcPyFkdVE8Vm70kRs-1738300109-1.2.1.1-oGWTuJQMVYhPHPKJPHf9C1NRG_lcDT0Bje.9tt6prhq22Xymkl7Y0KpFGQkPS65F2NKXLSqNynCE2.D6huHVvc4J62mZoPKSLuDo1mIkXsqNekQGeDWE.qjV4UGY0N_RJOJTPKL6ppojKncIUfvGjuVX382IxOGS93fuLhTD09ZS1mYqqePXCmdw1.OdkGf5PLkUQJzgm64Q9XJb1Os3FfCIcoydZ.mtrV8OzSjzVKtqPzV10EpKo_lo6Xw2z_B9iCJFjP3clovaPuwnmEfzu60c811Q_GzhClT9JXTj3cZiG2Ti6stU1DI1Hsnbvywymp18H4yNTC613qRtjKVZvs5Asbr4zL8GxUDQliTKdwa8P40cpKo4WaTGgEXGjudg_HQ29vMzNm19WwhkslZpwC8aYyJ3pv27ZQdEmpsX4BULmPXNfPsnJ3LymF1H_GSPj5cj.shGBvNgZrgr4Dvup6UJ3GpJWfepdrWxlVMFPlYLigqlbh69Kkn9uo_mZQgNeub1iVBva98mkyXTgbFSooHAaW6g9L1hcg.Y_koGXHvJdZvw5v0hZWW6EExkQ13pEO2JI1sYCcUHuVNti3RKeI6hYwD6fx8UDrNN3MKgs4HA5Ms33HtOVUuPEjcMCxJSdnmwphy7goZGl1w5SrwJHmCcevkTIWSeTUp2W6n6YAkFkDae4H2L44oiwPFW9laUkVhGwoEpXiKZeuq.R1E5WU2jMCYFEm1TakfK4n0IZYEBonn31xMuPF6TMMN1mzSOqvmQtV6qYflqVoQVGD5xJJ9xG7smW0uHVoS9X3.7NHfGD6_Bf9SNu3lOLlHCo8VsO1X.KQa.zGe3IVH3i2swgDDO2UJcm.3_.Q7mKxOpmP0HwfaBdQOtE8BsnpGHKRa58Y8OKEa1NTjxGec3ncnzqN2YjDIb3CfnyW7zuLHgSOADa3LHyb8_uB8dKuPgXG_z_IsnZ0h4gKxf5A00YhMuMo31CRnUxmPyRw0bcmFG.NnoJz1T5QWBlc9yCRE_vpFRuzdAcU2mWi14QEdjthAlPCFGvXRgJsj4I1h_hP_01OmlJ0oStec918lzvewcFes72u6XtlpLZOeyddR8boh_tNvTmvcRfU3OT8LPTcNmzeaLj077jyU5C0cE1mMmlfaPLLAFVNxDP_tL2J2EbNq8aDNL76Q77LXIpNWBmHuSmdIrZl3UnUcqaup0_hCWHt_02SLbs1nJZlFh9d6oNOOphbEnqKAAAeKCz0GDExEmCr5K58hMPUgFMXS30Q7uXGkoBzLbNRcBreExRWzUKpSlB9VS9Gwz4jsXKXEff91lzoDwqsy.Jq6xuPbHzRsTFq10ZTwX2KjmsvD6RA0mscm2HFdKVf.PAQLExslol1P3VgtScXDUsf1_lwzHe5QhYGnUlOlnjdMhu_MZY1NosHA9pJfJgjRkC73kIl7TVHKGofHezDq994d9Hy1wxC3S9SOsMeoV9xDbjPPkUAUpSVT1HENMyX4wzG3eN6nrxjTYyESqbhHX1C6OqEVEI0PKzFvHm516TDH8aj_vVVytAwAVGOaRzsrbox4QnUI1Ticyzxf3mEuB5j9i9ISuwwzT8tFe2R6YlToDC7rvnTeZ1_Gtw33HY_2aC6A.2QGLckO.ydNquehhLWMmbPSwNXpcg_y9qH0BIanz4jpFbDBmkr1XYqqb3xmBGARCjDMQv2Cbw8PL2lmCpPzuOOvLGIA9sFpP25mpJC3mWejyZbWRaew61Q8tr9dGvkItqZ62GkdMEFBaH6jY70kW.6jimhiZJSq.b0w0n35i.YI7IPZxwi_XH9Se2sr6y8p92odGVbkuPGxpEjv3rNbsxuYbcEdE1g8lYzJAo3esGl06gA0adr3dnM230SQ.I48ARUCz85sbv.zANqrpe3wSWxP3o0j1mFmrhA8kWBQGCpolVTrY23WiaT3bmivKIGDbdtah0xzpCdpsxAIcC5Oeb5TgoF4IgvgCqEy.4mZLylT7LGhkReXJrxrnJq5ED.dVHfgtUtZkRbgRBDskmkpEasr2e.RYxfldGHwBiAmSTKPsYRjhi_Wndb6cE2KO1e_9S66o2oah1jmtytAB9rzLXaNg1jB5VhtvMQpEC._Ym_esn88xQjFZHduA1umqxg6xIDQlZbu1WFIh.vzvLoWnxQ.Cr9HxXyf3Gi7nqzyKq1oq4fF5k7sCPCbPq0fYJcdwUCrxTTcyHM1k5YbQL0kkoPLdhdeZ4HSjw5soSxiDVRriMNGcVoDQmzsKE1_.p3LMP2gjN7wP1gyAmr7r8nsJHIqYIVJQnlDm\"};var cpo = document.createElement('script');cpo.src = '/cdn-cgi/challenge-platform/h/b/orchestrate/chl_page/v1?ray=90a72f21bff1db5b';window._cf_chl_opt.cOgUHash = location.hash === '' && location.href.indexOf('#') !== -1 ? '#' : location.hash;window._cf_chl_opt.cOgUQuery = location.search === '' && location.href.slice(0, location.href.length - window._cf_chl_opt.cOgUHash.length).indexOf('?') !== -1 ? '?' : location.search;if (window.history && window.history.replaceState) {var ogU = location.pathname + window._cf_chl_opt.cOgUQuery + window._cf_chl_opt.cOgUHash;history.replaceState(null, null, \"\\/?__cf_chl_rt_tk=G6L_AKPNIm12X34h86zivVNEV1ylHr3YK.2ra5hW3qY-1738300109-1.0.1.1-PGlCJBI5Fshd6asvRcZzQyaCFDAfKT9GlvG3iRx5TSs\" + window._cf_chl_opt.cOgUHash);cpo.onload = function() {history.replaceState(null, null, ogU);}}document.getElementsByTagName('head')[0].appendChild(cpo);}());</script></div>\n",
      "    </div>\n",
      "  <script>!function(){var e=document.createElement(\"iframe\");function n(){var n=e.contentDocument||e.contentWindow.document;if(n){var t=n.createElement(\"script\");t.nonce=\"\",t.innerHTML=\"window['__CF$cv$params']={r:'792f8224776acf9f',m:'hMcSCCrnIkr7c8Pec6Na6boaaFAnQ6S0ypG2GKRbKgc-1675305063-0-AaJn0SqKZQnadmRQ5O1dM9xMkXWyP+ll7gpl2NHeoNbZTEXMjlB10KkwnEU3hf0/gMODfKqcBGLVecql6U04GGs+iJ/kNrNqj1FgfAOlQV+T2koMQMvUy1zr9tegBBX6BikfccHZhwoJhnXc0eTcg58=',s:[0x60b082f691,0xee65a67e11],u:'/cdn-cgi/challenge-platform/h/b'};var now=Date.now()/1000,offset=14400,ts=''+(Math.floor(now)-Math.floor(now%offset)),_cpo=document.createElement('script');_cpo.nonce='',_cpo.src='/cdn-cgi/challenge-platform/h/b/scripts/alpha/invisible.js?ts='+ts,document.getElementsByTagName('head')[0].appendChild(_cpo);\",n.getElementsByTagName(\"head\")[0].appendChild(t)}}if(e.height=1,e.width=1,e.style.position=\"absolute\",e.style.top=0,e.style.left=0,e.style.border=\"none\",e.style.visibility=\"hidden\",document.body.appendChild(e),\"loading\"!==document.readyState)n();else if(window.addEventListener)document.addEventListener(\"DOMContentLoaded\",n);else{var t=document.onreadystatechange||function(){};document.onreadystatechange=function(e){t(e),\"loading\"!==document.readyState&&(document.onreadystatechange=t,n())}}}();</script></body>\n",
      "</html>\n",
      "\n"
     ]
    }
   ],
   "source": [
    "tests = [{\n",
    "  \"query\": \"В каком рейтинге (по состоянию на 2021 год) ИТМО впервые вошёл в\\n\\n топ-400 мировых университетов?\\n1. ARWU (Shanghai Ranking)\\n2. Times Higher Education (THE) World University Rankings\\n3. QS World University Rankings\\n4. U.S. News & World Report Best Global Universities\",\n",
    "  \"id\": 3\n",
    "},\n",
    "{\n",
    "  \"query\": \"В каком году Университет ИТМО был включён в число Национальных исследовательских университетов России?\\n1. 2007\\n2. 2009\\n3. 2011\",\n",
    "  \"id\": 2\n",
    "}\n",
    ",\n",
    "{\n",
    "  \"query\": \"В каком году Университет ИТМО был включён в число Национальных исследовательских университетов России?\",\n",
    "  \"id\": 2\n",
    "}\n",
    "\n",
    "]\n",
    "\n",
    "\n",
    "for test in tests:\n",
    "    print(contains_answer_variants(test))\n",
    "\n",
    "test_vpn()"
   ]
  },
  {
   "cell_type": "code",
   "execution_count": 1,
   "metadata": {},
   "outputs": [
    {
     "data": {
      "text/plain": [
       "True"
      ]
     },
     "execution_count": 1,
     "metadata": {},
     "output_type": "execute_result"
    }
   ],
   "source": [
    "from utils import contains_answer_variants, test_vpn\n",
    "from dotenv import load_dotenv\n",
    "load_dotenv() \n"
   ]
  },
  {
   "cell_type": "code",
   "execution_count": 28,
   "metadata": {},
   "outputs": [],
   "source": [
    "question_samples=[\n",
    "    \"как поступить в бакалавриат ИТМО в 2025 году?\",\n",
    "    \"с какого года работает Медиагруппа «Мегабайт» итмо?\",\n",
    "    \"какие были последние события в AI Learning Lab?\",\n",
    "\n",
    "                  ]\n",
    "\n",
    "itmo_news = \"https://news.itmo.ru/ru/\"\n",
    "itmo_abit = \"https://abit.itmo.ru/\"\n",
    "university_live = \"https://news.itmo.ru/ru/university_live/\"\n",
    "news_posts = [f\"https://news.itmo.ru/ru/university_live/ratings/\"]\n",
    "itmo_urls = [itmo_news, itmo_abit, \n",
    "             \"https://news.itmo.ru/ru/startups_and_business/\" ]"
   ]
  },
  {
   "cell_type": "code",
   "execution_count": 4,
   "metadata": {},
   "outputs": [],
   "source": [
    "from pprint import pprint\n",
    "import bs4\n",
    "import os\n",
    "\n",
    "\n",
    "langchain_tracing_v2 = os.getenv('LANGCHAIN_TRACING_V2')\n",
    "langchain_endpoint = os.getenv('LANGCHAIN_ENDPOINT')\n",
    "langchain_api_key = os.getenv('LANGCHAIN_API_KEY')\n",
    "\n",
    "## LLM\n",
    "openai_api_key = os.getenv('OPENAI_API_KEY')\n",
    "\n",
    "## Pinecone Vector Database\n",
    "pinecone_api_key = os.getenv('PINECONE_API_KEY')\n",
    "pinecone_api_host = os.getenv('PINECONE_API_HOST')\n",
    "index_name = os.getenv('PINECONE_INDEX_NAME')\n",
    "\n",
    "os.environ['LANGCHAIN_TRACING_V2'] = langchain_tracing_v2\n",
    "os.environ['LANGCHAIN_ENDPOINT'] = langchain_endpoint\n",
    "os.environ['LANGCHAIN_API_KEY'] = langchain_api_key\n",
    "os.environ['OPENAI_API_KEY'] = openai_api_key\n",
    "\n",
    "#Pinecone keys\n",
    "os.environ['PINECONE_API_KEY'] = pinecone_api_key\n",
    "os.environ['PINECONE_API_HOST'] = pinecone_api_host\n",
    "os.environ['PINECONE_INDEX_NAME'] = index_name\n",
    "\n",
    "\n"
   ]
  },
  {
   "cell_type": "code",
   "execution_count": 18,
   "metadata": {},
   "outputs": [],
   "source": [
    "\n",
    "from langchain import hub\n",
    "from langchain.text_splitter import RecursiveCharacterTextSplitter\n",
    "from langchain_community.document_loaders import WebBaseLoader\n",
    "from langchain_community.vectorstores import Pinecone\n",
    "from langchain_core.output_parsers import StrOutputParser\n",
    "from langchain_core.runnables import RunnablePassthrough\n",
    "from langchain_openai import ChatOpenAI, OpenAIEmbeddings\n",
    "from utils import parce_recurcuve\n",
    "from pinecone import Pinecone\n",
    "from langchain_pinecone import PineconeEmbeddings\n",
    "import pickle\n",
    "\n",
    "from bs4 import BeautifulSoup\n",
    "from langchain_community.document_loaders.recursive_url_loader import RecursiveUrlLoader\n",
    "from typing import List\n",
    "\n"
   ]
  },
  {
   "cell_type": "code",
   "execution_count": 31,
   "metadata": {},
   "outputs": [],
   "source": [
    "\n",
    "docs_news_post = parce_recurcuve_depth(news_posts, max_depth=3)"
   ]
  },
  {
   "cell_type": "code",
   "execution_count": 173,
   "metadata": {},
   "outputs": [
    {
     "name": "stdout",
     "output_type": "stream",
     "text": [
      "3028\n",
      "900\n"
     ]
    }
   ],
   "source": [
    "# print(all_all_news)\n",
    "\n",
    "\n",
    "docks_pkls = [\"docs.pickle\", \"docs_all_all_news_smaller.pickle\"]\n",
    "\n",
    "with open(docks_pkls[0], 'rb') as f:\n",
    "    docs_ = pickle.load(f)\n",
    "\n",
    "with open(docks_pkls[1], 'rb') as f:\n",
    "    docs_1 = pickle.load(f)\n",
    "\n",
    "print(len(docs_))\n",
    "print(len(docs_1))"
   ]
  },
  {
   "cell_type": "code",
   "execution_count": 174,
   "metadata": {},
   "outputs": [],
   "source": [
    "for doc in docs_1:\n",
    "    if doc not in docs_:\n",
    "        docs_.append(doc)"
   ]
  },
  {
   "cell_type": "code",
   "execution_count": 89,
   "metadata": {},
   "outputs": [],
   "source": [
    "docs_all_all_news = load_documents_langchain_community(all_all_news)\n",
    "import pickle\n",
    "with open('docs_all_all_news_.pickle', 'wb') as handle:\n",
    "    pickle.dump(docs_all_all_news, handle, protocol=pickle.HIGHEST_PROTOCOL)"
   ]
  },
  {
   "cell_type": "code",
   "execution_count": 92,
   "metadata": {},
   "outputs": [
    {
     "data": {
      "text/plain": [
       "900"
      ]
     },
     "execution_count": 92,
     "metadata": {},
     "output_type": "execute_result"
    }
   ],
   "source": [
    "len(docs_all_all_news)"
   ]
  },
  {
   "cell_type": "code",
   "execution_count": 94,
   "metadata": {},
   "outputs": [],
   "source": [
    "from pinecone import Pinecone\n",
    "\n",
    "pc = Pinecone(api_key=os.environ['PINECONE_API_KEY'])\n",
    "index = pc.Index(os.environ['PINECONE_INDEX_NAME'])\n",
    "\n",
    "# docs = parce_recurcuve_depth(itmo_urls, max_depth=2)\n",
    "\n",
    "# docs = parce_recurcuve(itmo_urls)\n",
    "\n",
    "# print(f\"Total characters: {len(docs[0].page_content)}\")\n",
    "# len(docs) # 2268"
   ]
  },
  {
   "cell_type": "code",
   "execution_count": 13,
   "metadata": {},
   "outputs": [],
   "source": [
    "import pickle\n",
    "with open('docs.pickle', 'wb') as handle:\n",
    "    pickle.dump(docs, handle, protocol=pickle.HIGHEST_PROTOCOL)"
   ]
  },
  {
   "cell_type": "code",
   "execution_count": 46,
   "metadata": {},
   "outputs": [],
   "source": [
    "import time \n",
    "from datetime import timedelta\n",
    "\n",
    "def get_100_questions():\n",
    "    template = \"Ответь подробно и развернуто на каждый из этих вопросов (на русском языке):\\n\"\n",
    "    questions = [\n",
    "    \"What is ITMO University known for?\",\n",
    "    \"Where is ITMO University located?\",\n",
    "    \"When was ITMO University founded?\",\n",
    "    \"What are the main academic programs at ITMO University?\",\n",
    "    \"Is ITMO University a public or private institution?\",\n",
    "    \"How can international students apply to ITMO University?\",\n",
    "    \"What are the admission requirements for ITMO University?\",\n",
    "    \"Does ITMO University offer online courses?\",\n",
    "    \"What are the tuition fees at ITMO University?\",\n",
    "    \"Are there any scholarships available for students at ITMO University?\",\n",
    "    \"What is the QS World Ranking of ITMO University?\",\n",
    "    \"How does ITMO University support research activities?\",\n",
    "    \"What are the main research areas at ITMO University?\",\n",
    "    \"Does ITMO University have partnerships with international universities?\",\n",
    "    \"What is the student-to-faculty ratio at ITMO University?\",\n",
    "    \"Are there any exchange programs available at ITMO University?\",\n",
    "    \"What are the main campus facilities at ITMO University?\",\n",
    "    \"Where can students find accommodation near ITMO University?\",\n",
    "    \"Does ITMO University provide dormitories for students?\",\n",
    "    \"How many students study at ITMO University?\",\n",
    "    \"What are the main student organizations at ITMO University?\",\n",
    "    \"Does ITMO University have an entrepreneurship center?\",\n",
    "    \"What is ITMO University’s role in technological innovation?\",\n",
    "    \"Are there any IT-related competitions at ITMO University?\",\n",
    "    \"How does ITMO University participate in international competitions?\",\n",
    "    \"What programming languages are taught at ITMO University?\",\n",
    "    \"Does ITMO University have a strong cybersecurity program?\",\n",
    "    \"What is ITMO University’s reputation in artificial intelligence research?\",\n",
    "    \"How does ITMO University support startups and innovations?\",\n",
    "    \"Are there internship opportunities for ITMO students?\",\n",
    "    \"What is the main language of instruction at ITMO University?\",\n",
    "    \"Does ITMO University offer courses in English?\",\n",
    "    \"What is the duration of undergraduate programs at ITMO University?\",\n",
    "    \"What is the duration of master's programs at ITMO University?\",\n",
    "    \"What is the duration of PhD programs at ITMO University?\",\n",
    "    \"How competitive is admission to ITMO University?\",\n",
    "    \"What are the most popular degree programs at ITMO University?\",\n",
    "    \"How does ITMO University support international students?\",\n",
    "    \"What is ITMO University's role in the Russian academic community?\",\n",
    "    \"Does ITMO University have any Nobel laureates among its faculty or alumni?\",\n",
    "    \"What kind of career opportunities do ITMO graduates have?\",\n",
    "    \"Does ITMO University have a strong alumni network?\",\n",
    "    \"Are there any famous alumni from ITMO University?\",\n",
    "    \"Does ITMO University offer dual degree programs?\",\n",
    "    \"How does ITMO University collaborate with the industry?\",\n",
    "    \"What kind of scientific conferences does ITMO University host?\",\n",
    "    \"What is the main library at ITMO University like?\",\n",
    "    \"How can students access ITMO University’s digital resources?\",\n",
    "    \"Does ITMO University offer short-term courses?\",\n",
    "    \"What are the main fields of engineering taught at ITMO University?\",\n",
    "    \"What sports facilities are available at ITMO University?\",\n",
    "    \"Does ITMO University have a student exchange program with European universities?\",\n",
    "    \"What kind of financial aid options does ITMO University provide?\",\n",
    "    \"How many campuses does ITMO University have?\",\n",
    "    \"What are the research laboratories at ITMO University focused on?\",\n",
    "    \"How does ITMO University promote interdisciplinary studies?\",\n",
    "    \"Does ITMO University participate in international rankings?\",\n",
    "    \"What is the role of ITMO University in developing smart technologies?\",\n",
    "    \"How does ITMO University contribute to artificial intelligence development?\",\n",
    "    \"Are there any summer schools at ITMO University?\",\n",
    "    \"What competitions in robotics are held at ITMO University?\",\n",
    "    \"Does ITMO University have a robotics club?\",\n",
    "    \"What are the main challenges of studying at ITMO University?\",\n",
    "    \"How does ITMO University collaborate with high-tech companies?\",\n",
    "    \"What career services does ITMO University offer?\",\n",
    "    \"Does ITMO University have a career center?\",\n",
    "    \"What is the cost of living for students in Saint Petersburg?\",\n",
    "    \"Does ITMO University offer student mentoring programs?\",\n",
    "    \"Are there any volunteer opportunities at ITMO University?\",\n",
    "    \"How does ITMO University support academic publishing?\",\n",
    "    \"What is the ITMO University’s approach to distance learning?\",\n",
    "    \"Does ITMO University have a space research program?\",\n",
    "    \"How does ITMO University promote scientific innovation?\",\n",
    "    \"What kind of student projects are encouraged at ITMO University?\",\n",
    "    \"Does ITMO University have a strong presence in AI research?\",\n",
    "    \"What is ITMO University’s ranking in computer science?\",\n",
    "    \"What are the admission deadlines for ITMO University?\",\n",
    "    \"How does ITMO University support women in STEM?\",\n",
    "    \"What are the key subjects in the computer science curriculum at ITMO University?\",\n",
    "    \"Does ITMO University have an AI research lab?\",\n",
    "    \"How does ITMO University handle student well-being?\",\n",
    "    \"Are there any student hackathons at ITMO University?\",\n",
    "    \"Does ITMO University provide free software licenses for students?\",\n",
    "    \"What is ITMO University’s contribution to open-source projects?\",\n",
    "    \"How is ITMO University connected to Russia’s tech industry?\",\n",
    "    \"What are the major student events at ITMO University?\",\n",
    "    \"How can students get involved in research at ITMO University?\",\n",
    "    \"What is the employment rate for ITMO graduates?\",\n",
    "    \"How can prospective students contact ITMO University?\",\n",
    "    \"Does ITMO University have a cybersecurity research group?\",\n",
    "    \"What role does ITMO University play in data science education?\",\n",
    "    \"How does ITMO University incorporate modern technologies into education?\",\n",
    "    \"What are ITMO University’s main academic partnerships?\",\n",
    "    \"Does ITMO University have a nanotechnology program?\",\n",
    "    \"How does ITMO University use AI in education?\",\n",
    "    \"What is the ITMO Fellowship program?\",\n",
    "    \"What languages can students learn at ITMO University?\",\n",
    "    \"Are there any ITMO University alumni working in Silicon Valley?\",\n",
    "    \"How does ITMO University rank compared to other Russian universities?\",\n",
    "    \"What is ITMO University’s main focus in scientific research?\",\n",
    "    \"Does ITMO University provide cloud computing resources for students?\",\n",
    "    \"What is ITMO University’s approach to sustainable development?\",\n",
    "    \"How can students engage in entrepreneurship at ITMO University?\",\n",
    "    \"What kind of AI projects are developed at ITMO University?\"\n",
    "]\n",
    "\n",
    "    return template, questions"
   ]
  },
  {
   "cell_type": "code",
   "execution_count": null,
   "metadata": {},
   "outputs": [],
   "source": [
    "def dummy_pred(query):\n",
    "    return ''\n",
    "\n",
    "def test_100_questions():\n",
    "    template, questions = get_100_questions()\n",
    "    starttime = time.perf_counter()\n",
    "    for i, each_q in enumerate(questions):\n",
    "        answer = dummy_pred(each_q)\n",
    "        print(f\"each_q:\\n{each_q}\\nAnswer:\\n{answer}\")\n",
    "\n",
    "    duration = timedelta(seconds=time.perf_counter()-starttime)\n",
    "    print(f\"\\n{'*'*10}\\nTotal : {duration}\\nAvg : {duration / (i+1)}\")"
   ]
  },
  {
   "cell_type": "code",
   "execution_count": 95,
   "metadata": {},
   "outputs": [],
   "source": [
    "model_name = \"multilingual-e5-large\" # \n",
    "\n",
    "embeddings = PineconeEmbeddings(\n",
    "    model=model_name,\n",
    "    pinecone_api_key=pinecone_api_key\n",
    "\n",
    ")\n"
   ]
  },
  {
   "cell_type": "code",
   "execution_count": 96,
   "metadata": {},
   "outputs": [],
   "source": [
    "from langchain import hub\n",
    "from langchain.text_splitter import RecursiveCharacterTextSplitter\n",
    "from langchain_community.document_loaders import WebBaseLoader\n",
    "from langchain_community.vectorstores import Pinecone\n",
    "from langchain_core.output_parsers import StrOutputParser\n",
    "from langchain_core.runnables import RunnablePassthrough\n",
    "from langchain_openai import ChatOpenAI, OpenAIEmbeddings\n",
    "import pickle\n",
    "from langchain_community.vectorstores import FAISS\n",
    "\n",
    "def format_docs(docs):\n",
    "    return \"\\n\\n\".join(doc.page_content for doc in docs)\n",
    "\n",
    "def split_docs(docs):\n",
    "\n",
    "    text_splitter = RecursiveCharacterTextSplitter(chunk_size=1020, chunk_overlap=10)\n",
    "    splits = text_splitter.split_documents(docs)\n",
    "    return splits\n",
    "\n",
    "\n",
    "splits_all_news = split_docs(docs_all_all_news)\n",
    "\n",
    "# vectorstore = Pinecone.from_documents(\n",
    "#     documents=splits, \n",
    "#     embedding=embeddings,\n",
    "#     #OpenAIEmbeddings(model=\"text-embedding-3-small\"), \n",
    "#     # # text-embedding-3-large  multilingual-e5-large\n",
    "#     index_name=index_name\n",
    "# )\n"
   ]
  },
  {
   "cell_type": "code",
   "execution_count": 97,
   "metadata": {},
   "outputs": [
    {
     "data": {
      "text/plain": [
       "8101"
      ]
     },
     "execution_count": 97,
     "metadata": {},
     "output_type": "execute_result"
    }
   ],
   "source": [
    "len(splits_all_news) # 39k"
   ]
  },
  {
   "cell_type": "code",
   "execution_count": 84,
   "metadata": {},
   "outputs": [],
   "source": [
    "from langchain_core.vectorstores.in_memory import InMemoryVectorStore\n",
    "\n",
    "vector_store = InMemoryVectorStore(embeddings)"
   ]
  },
  {
   "cell_type": "code",
   "execution_count": 98,
   "metadata": {},
   "outputs": [],
   "source": [
    "# docsearch_all_news = FAISS.from_documents(splits_all_news, embeddings)\n",
    "# vector_store.add_documents(documents=splits_all_news)"
   ]
  },
  {
   "cell_type": "code",
   "execution_count": null,
   "metadata": {},
   "outputs": [],
   "source": []
  },
  {
   "cell_type": "code",
   "execution_count": 23,
   "metadata": {},
   "outputs": [
    {
     "data": {
      "text/plain": [
       "31400"
      ]
     },
     "execution_count": 23,
     "metadata": {},
     "output_type": "execute_result"
    }
   ],
   "source": [
    "# faiss_index.index.ntotal # 25\n",
    "# faiss_index.index.ntotal # 54 k\n",
    "faiss_index.index.ntotal"
   ]
  },
  {
   "cell_type": "code",
   "execution_count": 99,
   "metadata": {},
   "outputs": [
    {
     "name": "stdout",
     "output_type": "stream",
     "text": [
      "0 1000\n",
      "1000 2000\n",
      "2000 3000\n",
      "3000 4000\n",
      "4000 5000\n",
      "5000 6000\n",
      "6000 7000\n",
      "7000 8000\n",
      "8000 9000\n"
     ]
    }
   ],
   "source": [
    "borders = list(range(0, len(splits_all_news)+1000, 1000))\n",
    "for i in range(len(borders)-1):\n",
    "    print(borders[i] , borders[i+1])"
   ]
  },
  {
   "cell_type": "code",
   "execution_count": 100,
   "metadata": {},
   "outputs": [
    {
     "name": "stdout",
     "output_type": "stream",
     "text": [
      "0\n",
      "1\n",
      "2\n",
      "3\n",
      "4\n",
      "5\n",
      "6\n",
      "7\n",
      "8\n"
     ]
    }
   ],
   "source": [
    "import time\n",
    "\n",
    "borders = list(range(0, len(splits_all_news)+1000, 1000))\n",
    "for i in range(len(borders)-1):\n",
    "    content = splits_all_news[borders[i] : borders[i+1]]\n",
    "    # if i < 199: \n",
    "    #     pass\n",
    "    # else:\n",
    "    print(i)\n",
    "    if i == 0:\n",
    "        faiss_index = FAISS.from_documents(content,embeddings)\n",
    "    else:\n",
    "        time.sleep(61)\n",
    "        faiss_index_i = FAISS.from_documents(content, embeddings)\n",
    "        faiss_index.merge_from(faiss_index_i)\n"
   ]
  },
  {
   "cell_type": "code",
   "execution_count": 101,
   "metadata": {},
   "outputs": [],
   "source": [
    "# faiss_index.save_local(\"faiss_index_all_news\")\n",
    "\n",
    "# faiss_index1 = FAISS.load_local(\"faiss_index\", embeddings, allow_dangerous_deserialization=True)\n",
    "# faiss_index.merge_from(faiss_index1)"
   ]
  },
  {
   "cell_type": "code",
   "execution_count": 177,
   "metadata": {},
   "outputs": [],
   "source": [
    "# docsearch = FAISS.from_documents(splits, embeddings)\n",
    "# docsearch.save_local(\"faiss_index1\")\n",
    "# faiss_index= FAISS.load_local(\"faiss_index1\", embeddings, allow_dangerous_deserialization=True)\n",
    "\n",
    "\n",
    "\"faiss_index02\"\n",
    "\"faiss_index1\"\n",
    "\"faiss_index_all_news\"\n",
    "\n",
    "faiss_index = FAISS.load_local(\"faiss_index02\", embeddings, allow_dangerous_deserialization=True)\n",
    "docsearch_faiss_index1 = FAISS.load_local(\"faiss_index1\", embeddings, allow_dangerous_deserialization=True)\n",
    "docsearch_faiss_index_all_news = FAISS.load_local(\"faiss_index_all_news\", embeddings, allow_dangerous_deserialization=True)\n",
    "\n",
    "faiss_index.merge_from(docsearch_faiss_index1)\n",
    "faiss_index.merge_from(docsearch_faiss_index_all_news)\n",
    "faiss_index.save_local(\"faiss_index_all_summary\")\n",
    "# faiss_index1 = FAISS.load_local(\"faiss_index\", embeddings, allow_dangerous_deserialization=True)\n",
    "# faiss_index.merge_from(faiss_index1)"
   ]
  },
  {
   "cell_type": "code",
   "execution_count": null,
   "metadata": {},
   "outputs": [],
   "source": []
  },
  {
   "cell_type": "code",
   "execution_count": 103,
   "metadata": {},
   "outputs": [],
   "source": [
    "\n",
    "# retriever = vectorstore.as_retriever()\n",
    "# prompt = hub.pull(\"rlm/rag-prompt\")\n",
    "# llm = ChatOpenAI(model=\"gpt-4o-mini\", temperature=0.7)\n",
    "# rag_chain = (\n",
    "#     {\"context\": retriever | format_docs, \"question\": RunnablePassthrough()}\n",
    "#     | prompt\n",
    "#     | llm\n",
    "#     | StrOutputParser()\n",
    "# )\n",
    "\n",
    "retriever = docsearch.as_retriever()\n",
    "prompt = hub.pull(\"rlm/rag-prompt\")\n",
    "llm = ChatOpenAI(model=\"gpt-4o-mini\", temperature=0.5)\n",
    "rag_chain = (\n",
    "    {\"context\": retriever | format_docs, \"question\": RunnablePassthrough()}\n",
    "    | prompt\n",
    "    | llm\n",
    "    | StrOutputParser()\n",
    ")"
   ]
  },
  {
   "cell_type": "markdown",
   "metadata": {},
   "source": [
    "#### Graph structure\n"
   ]
  },
  {
   "cell_type": "code",
   "execution_count": 108,
   "metadata": {},
   "outputs": [
    {
     "name": "stdout",
     "output_type": "stream",
     "text": [
      "Requirement already satisfied: langgraph in /usr/local/lib/python3.9/site-packages (0.2.69)\n",
      "Requirement already satisfied: langgraph-checkpoint<3.0.0,>=2.0.10 in /usr/local/lib/python3.9/site-packages (from langgraph) (2.0.10)\n",
      "Requirement already satisfied: langgraph-sdk<0.2.0,>=0.1.42 in /usr/local/lib/python3.9/site-packages (from langgraph) (0.1.51)\n",
      "Requirement already satisfied: langchain-core!=0.3.0,!=0.3.1,!=0.3.10,!=0.3.11,!=0.3.12,!=0.3.13,!=0.3.14,!=0.3.15,!=0.3.16,!=0.3.17,!=0.3.18,!=0.3.19,!=0.3.2,!=0.3.20,!=0.3.21,!=0.3.22,!=0.3.3,!=0.3.4,!=0.3.5,!=0.3.6,!=0.3.7,!=0.3.8,!=0.3.9,<0.4.0,>=0.2.43 in /usr/local/lib/python3.9/site-packages (from langgraph) (0.3.33)\n",
      "Requirement already satisfied: pydantic<3.0.0,>=2.5.2 in /usr/local/lib/python3.9/site-packages (from langchain-core!=0.3.0,!=0.3.1,!=0.3.10,!=0.3.11,!=0.3.12,!=0.3.13,!=0.3.14,!=0.3.15,!=0.3.16,!=0.3.17,!=0.3.18,!=0.3.19,!=0.3.2,!=0.3.20,!=0.3.21,!=0.3.22,!=0.3.3,!=0.3.4,!=0.3.5,!=0.3.6,!=0.3.7,!=0.3.8,!=0.3.9,<0.4.0,>=0.2.43->langgraph) (2.10.6)\n",
      "Requirement already satisfied: jsonpatch<2.0,>=1.33 in /usr/local/lib/python3.9/site-packages (from langchain-core!=0.3.0,!=0.3.1,!=0.3.10,!=0.3.11,!=0.3.12,!=0.3.13,!=0.3.14,!=0.3.15,!=0.3.16,!=0.3.17,!=0.3.18,!=0.3.19,!=0.3.2,!=0.3.20,!=0.3.21,!=0.3.22,!=0.3.3,!=0.3.4,!=0.3.5,!=0.3.6,!=0.3.7,!=0.3.8,!=0.3.9,<0.4.0,>=0.2.43->langgraph) (1.33)\n",
      "Requirement already satisfied: tenacity!=8.4.0,<10.0.0,>=8.1.0 in /usr/local/lib/python3.9/site-packages (from langchain-core!=0.3.0,!=0.3.1,!=0.3.10,!=0.3.11,!=0.3.12,!=0.3.13,!=0.3.14,!=0.3.15,!=0.3.16,!=0.3.17,!=0.3.18,!=0.3.19,!=0.3.2,!=0.3.20,!=0.3.21,!=0.3.22,!=0.3.3,!=0.3.4,!=0.3.5,!=0.3.6,!=0.3.7,!=0.3.8,!=0.3.9,<0.4.0,>=0.2.43->langgraph) (9.0.0)\n",
      "Requirement already satisfied: packaging<25,>=23.2 in /usr/local/lib/python3.9/site-packages (from langchain-core!=0.3.0,!=0.3.1,!=0.3.10,!=0.3.11,!=0.3.12,!=0.3.13,!=0.3.14,!=0.3.15,!=0.3.16,!=0.3.17,!=0.3.18,!=0.3.19,!=0.3.2,!=0.3.20,!=0.3.21,!=0.3.22,!=0.3.3,!=0.3.4,!=0.3.5,!=0.3.6,!=0.3.7,!=0.3.8,!=0.3.9,<0.4.0,>=0.2.43->langgraph) (24.2)\n",
      "Requirement already satisfied: PyYAML>=5.3 in /usr/local/lib/python3.9/site-packages (from langchain-core!=0.3.0,!=0.3.1,!=0.3.10,!=0.3.11,!=0.3.12,!=0.3.13,!=0.3.14,!=0.3.15,!=0.3.16,!=0.3.17,!=0.3.18,!=0.3.19,!=0.3.2,!=0.3.20,!=0.3.21,!=0.3.22,!=0.3.3,!=0.3.4,!=0.3.5,!=0.3.6,!=0.3.7,!=0.3.8,!=0.3.9,<0.4.0,>=0.2.43->langgraph) (6.0.2)\n",
      "Requirement already satisfied: typing-extensions>=4.7 in /usr/local/lib/python3.9/site-packages (from langchain-core!=0.3.0,!=0.3.1,!=0.3.10,!=0.3.11,!=0.3.12,!=0.3.13,!=0.3.14,!=0.3.15,!=0.3.16,!=0.3.17,!=0.3.18,!=0.3.19,!=0.3.2,!=0.3.20,!=0.3.21,!=0.3.22,!=0.3.3,!=0.3.4,!=0.3.5,!=0.3.6,!=0.3.7,!=0.3.8,!=0.3.9,<0.4.0,>=0.2.43->langgraph) (4.12.2)\n",
      "Requirement already satisfied: langsmith<0.4,>=0.1.125 in /usr/local/lib/python3.9/site-packages (from langchain-core!=0.3.0,!=0.3.1,!=0.3.10,!=0.3.11,!=0.3.12,!=0.3.13,!=0.3.14,!=0.3.15,!=0.3.16,!=0.3.17,!=0.3.18,!=0.3.19,!=0.3.2,!=0.3.20,!=0.3.21,!=0.3.22,!=0.3.3,!=0.3.4,!=0.3.5,!=0.3.6,!=0.3.7,!=0.3.8,!=0.3.9,<0.4.0,>=0.2.43->langgraph) (0.3.3)\n",
      "Requirement already satisfied: msgpack<2.0.0,>=1.1.0 in /usr/local/lib/python3.9/site-packages (from langgraph-checkpoint<3.0.0,>=2.0.10->langgraph) (1.1.0)\n",
      "Requirement already satisfied: orjson>=3.10.1 in /usr/local/lib/python3.9/site-packages (from langgraph-sdk<0.2.0,>=0.1.42->langgraph) (3.10.15)\n",
      "Requirement already satisfied: httpx>=0.25.2 in /usr/local/lib/python3.9/site-packages (from langgraph-sdk<0.2.0,>=0.1.42->langgraph) (0.28.1)\n",
      "Requirement already satisfied: anyio in /usr/local/lib/python3.9/site-packages (from httpx>=0.25.2->langgraph-sdk<0.2.0,>=0.1.42->langgraph) (4.8.0)\n",
      "Requirement already satisfied: certifi in /usr/local/lib/python3.9/site-packages (from httpx>=0.25.2->langgraph-sdk<0.2.0,>=0.1.42->langgraph) (2024.12.14)\n",
      "Requirement already satisfied: httpcore==1.* in /usr/local/lib/python3.9/site-packages (from httpx>=0.25.2->langgraph-sdk<0.2.0,>=0.1.42->langgraph) (1.0.7)\n",
      "Requirement already satisfied: idna in /usr/local/lib/python3.9/site-packages (from httpx>=0.25.2->langgraph-sdk<0.2.0,>=0.1.42->langgraph) (3.10)\n",
      "Requirement already satisfied: h11<0.15,>=0.13 in /usr/local/lib/python3.9/site-packages (from httpcore==1.*->httpx>=0.25.2->langgraph-sdk<0.2.0,>=0.1.42->langgraph) (0.14.0)\n",
      "Requirement already satisfied: jsonpointer>=1.9 in /usr/local/lib/python3.9/site-packages (from jsonpatch<2.0,>=1.33->langchain-core!=0.3.0,!=0.3.1,!=0.3.10,!=0.3.11,!=0.3.12,!=0.3.13,!=0.3.14,!=0.3.15,!=0.3.16,!=0.3.17,!=0.3.18,!=0.3.19,!=0.3.2,!=0.3.20,!=0.3.21,!=0.3.22,!=0.3.3,!=0.3.4,!=0.3.5,!=0.3.6,!=0.3.7,!=0.3.8,!=0.3.9,<0.4.0,>=0.2.43->langgraph) (3.0.0)\n",
      "Requirement already satisfied: requests-toolbelt<2.0.0,>=1.0.0 in /usr/local/lib/python3.9/site-packages (from langsmith<0.4,>=0.1.125->langchain-core!=0.3.0,!=0.3.1,!=0.3.10,!=0.3.11,!=0.3.12,!=0.3.13,!=0.3.14,!=0.3.15,!=0.3.16,!=0.3.17,!=0.3.18,!=0.3.19,!=0.3.2,!=0.3.20,!=0.3.21,!=0.3.22,!=0.3.3,!=0.3.4,!=0.3.5,!=0.3.6,!=0.3.7,!=0.3.8,!=0.3.9,<0.4.0,>=0.2.43->langgraph) (1.0.0)\n",
      "Requirement already satisfied: requests<3,>=2 in /usr/local/lib/python3.9/site-packages (from langsmith<0.4,>=0.1.125->langchain-core!=0.3.0,!=0.3.1,!=0.3.10,!=0.3.11,!=0.3.12,!=0.3.13,!=0.3.14,!=0.3.15,!=0.3.16,!=0.3.17,!=0.3.18,!=0.3.19,!=0.3.2,!=0.3.20,!=0.3.21,!=0.3.22,!=0.3.3,!=0.3.4,!=0.3.5,!=0.3.6,!=0.3.7,!=0.3.8,!=0.3.9,<0.4.0,>=0.2.43->langgraph) (2.32.3)\n",
      "Requirement already satisfied: zstandard<0.24.0,>=0.23.0 in /usr/local/lib/python3.9/site-packages (from langsmith<0.4,>=0.1.125->langchain-core!=0.3.0,!=0.3.1,!=0.3.10,!=0.3.11,!=0.3.12,!=0.3.13,!=0.3.14,!=0.3.15,!=0.3.16,!=0.3.17,!=0.3.18,!=0.3.19,!=0.3.2,!=0.3.20,!=0.3.21,!=0.3.22,!=0.3.3,!=0.3.4,!=0.3.5,!=0.3.6,!=0.3.7,!=0.3.8,!=0.3.9,<0.4.0,>=0.2.43->langgraph) (0.23.0)\n",
      "Requirement already satisfied: annotated-types>=0.6.0 in /usr/local/lib/python3.9/site-packages (from pydantic<3.0.0,>=2.5.2->langchain-core!=0.3.0,!=0.3.1,!=0.3.10,!=0.3.11,!=0.3.12,!=0.3.13,!=0.3.14,!=0.3.15,!=0.3.16,!=0.3.17,!=0.3.18,!=0.3.19,!=0.3.2,!=0.3.20,!=0.3.21,!=0.3.22,!=0.3.3,!=0.3.4,!=0.3.5,!=0.3.6,!=0.3.7,!=0.3.8,!=0.3.9,<0.4.0,>=0.2.43->langgraph) (0.7.0)\n",
      "Requirement already satisfied: pydantic-core==2.27.2 in /usr/local/lib/python3.9/site-packages (from pydantic<3.0.0,>=2.5.2->langchain-core!=0.3.0,!=0.3.1,!=0.3.10,!=0.3.11,!=0.3.12,!=0.3.13,!=0.3.14,!=0.3.15,!=0.3.16,!=0.3.17,!=0.3.18,!=0.3.19,!=0.3.2,!=0.3.20,!=0.3.21,!=0.3.22,!=0.3.3,!=0.3.4,!=0.3.5,!=0.3.6,!=0.3.7,!=0.3.8,!=0.3.9,<0.4.0,>=0.2.43->langgraph) (2.27.2)\n",
      "Requirement already satisfied: charset-normalizer<4,>=2 in /usr/local/lib/python3.9/site-packages (from requests<3,>=2->langsmith<0.4,>=0.1.125->langchain-core!=0.3.0,!=0.3.1,!=0.3.10,!=0.3.11,!=0.3.12,!=0.3.13,!=0.3.14,!=0.3.15,!=0.3.16,!=0.3.17,!=0.3.18,!=0.3.19,!=0.3.2,!=0.3.20,!=0.3.21,!=0.3.22,!=0.3.3,!=0.3.4,!=0.3.5,!=0.3.6,!=0.3.7,!=0.3.8,!=0.3.9,<0.4.0,>=0.2.43->langgraph) (3.4.1)\n",
      "Requirement already satisfied: urllib3<3,>=1.21.1 in /usr/local/lib/python3.9/site-packages (from requests<3,>=2->langsmith<0.4,>=0.1.125->langchain-core!=0.3.0,!=0.3.1,!=0.3.10,!=0.3.11,!=0.3.12,!=0.3.13,!=0.3.14,!=0.3.15,!=0.3.16,!=0.3.17,!=0.3.18,!=0.3.19,!=0.3.2,!=0.3.20,!=0.3.21,!=0.3.22,!=0.3.3,!=0.3.4,!=0.3.5,!=0.3.6,!=0.3.7,!=0.3.8,!=0.3.9,<0.4.0,>=0.2.43->langgraph) (2.3.0)\n",
      "Requirement already satisfied: exceptiongroup>=1.0.2 in /usr/local/lib/python3.9/site-packages (from anyio->httpx>=0.25.2->langgraph-sdk<0.2.0,>=0.1.42->langgraph) (1.2.2)\n",
      "Requirement already satisfied: sniffio>=1.1 in /usr/local/lib/python3.9/site-packages (from anyio->httpx>=0.25.2->langgraph-sdk<0.2.0,>=0.1.42->langgraph) (1.3.1)\n",
      "\u001b[33mWARNING: Running pip as the 'root' user can result in broken permissions and conflicting behaviour with the system package manager. It is recommended to use a virtual environment instead: https://pip.pypa.io/warnings/venv\u001b[0m\u001b[33m\n",
      "\u001b[0m\n",
      "\u001b[1m[\u001b[0m\u001b[34;49mnotice\u001b[0m\u001b[1;39;49m]\u001b[0m\u001b[39;49m A new release of pip is available: \u001b[0m\u001b[31;49m23.0.1\u001b[0m\u001b[39;49m -> \u001b[0m\u001b[32;49m25.0\u001b[0m\n",
      "\u001b[1m[\u001b[0m\u001b[34;49mnotice\u001b[0m\u001b[1;39;49m]\u001b[0m\u001b[39;49m To update, run: \u001b[0m\u001b[32;49mpip install --upgrade pip\u001b[0m\n"
     ]
    }
   ],
   "source": [
    "!pip install langgraph"
   ]
  },
  {
   "cell_type": "code",
   "execution_count": 197,
   "metadata": {},
   "outputs": [],
   "source": [
    "def preprocess_user_q(q : str):\n",
    "    template = \"\\nВыведи ответ в таком формате:\\n1. {правильныя цифра ответа}\\n2. {развернутое и подробное объяснение почему этот ответ правильный}\\n\"\n",
    "    q = \"Вот вопрос и варианты ответов:\\n\" + q\n",
    "    q += template\n",
    "    \n",
    "    return q\n",
    "\n",
    "def preprocess_user_q_no_answers(q : str):\n",
    "    q = \"Вот вопрос:\\n\" + q\n",
    "    return q\n"
   ]
  },
  {
   "cell_type": "code",
   "execution_count": 201,
   "metadata": {},
   "outputs": [],
   "source": [
    "import bs4\n",
    "import re\n",
    "from langchain import hub\n",
    "from langchain_core.documents import Document\n",
    "from langgraph.graph import START, StateGraph\n",
    "from typing_extensions import List, TypedDict\n",
    "# Define prompt for question-answering\n",
    "\n",
    "prompt = hub.pull(\"rlm/rag-prompt\")\n",
    "llm = ChatOpenAI(model=\"gpt-4o-mini\", temperature=0.5)\n",
    "# docsearch = \n",
    "\n",
    "\n",
    "class State(TypedDict):\n",
    "    question: str\n",
    "    context: List[Document]\n",
    "    answer: str\n",
    "\n",
    "\n",
    "\n",
    "def retrieve(state: State):\n",
    "    retrieved_docs = docsearch.similarity_search(state[\"question\"])\n",
    "    return {\"context\": retrieved_docs}\n",
    "\n",
    "\n",
    "def generate(state: State):\n",
    "    docs_content = \"\\n\\n\".join(doc.page_content for doc in state[\"context\"])\n",
    "    messages = prompt.invoke({\"question\": state[\"question\"], \"context\": docs_content})\n",
    "    response = llm.invoke(messages)\n",
    "    return {\"answer\": response.content}\n",
    "\n",
    "\n",
    "def parce_links(source : str):\n",
    "    pattern = '(?:(?:https?|ftp):\\/\\/)?[\\w/\\-?=%.]+\\.[\\w/\\-&?=%.]+'\n",
    "    res = re.findall(pattern, source)\n",
    "    return res if res else None\n",
    "\n",
    "\n",
    "\n",
    "\n",
    "# Compile application and test\n",
    "graph_builder = StateGraph(State).add_sequence([retrieve, generate])\n",
    "graph_builder.add_edge(START, \"retrieve\")\n",
    "graph = graph_builder.compile()"
   ]
  },
  {
   "cell_type": "code",
   "execution_count": null,
   "metadata": {},
   "outputs": [],
   "source": []
  },
  {
   "cell_type": "code",
   "execution_count": 143,
   "metadata": {},
   "outputs": [
    {
     "name": "stdout",
     "output_type": "stream",
     "text": [
      "Вот вопрос и варианты ответов:\n",
      "как работает AI-шлем, разработанный стартапом сотрудников ИТМО?\n",
      "1. решает проблему подготовки космонавтов\n",
      "2. решает проблему искуственного интеллекта а главный принцип работы это VR очки\n",
      "3. шлем похож на канадскую разработку RealWear. Ключевым элементом шлема является прозрачный дисплей дополненной реальности в виде очков.\n",
      "Выведи ответ в таком формате:\n",
      "1. {правильныя цифра ответа}\n",
      "2. {развернутое и подробное объяснение почему этот ответ правильный}\n",
      "\n"
     ]
    }
   ],
   "source": [
    "# user_q = \"В каком рейтинге (по состоянию на 2021 год) ИТМО впервые вошёл в топ-400 мировых университетов?\\n1. ARWU (Shanghai Ranking)\\n2. Times Higher Education (THE) World University Rankings\\n3. QS World University Rankings\\n4. U.S. News & World Report Best Global Universities\"\n",
    "\n",
    "user_q = \"как работает AI-шлем, разработанный стартапом сотрудников ИТМО?\\n1. решает проблему подготовки космонавтов\\n2. решает проблему искуственного интеллекта а главный принцип работы это VR очки\\n3. шлем похож на канадскую разработку RealWear. Ключевым элементом шлема является прозрачный дисплей дополненной реальности в виде очков.\"\n",
    "test_q = preprocess_user_q(user_q)\n",
    "print(test_q)"
   ]
  },
  {
   "cell_type": "code",
   "execution_count": 199,
   "metadata": {},
   "outputs": [
    {
     "name": "stdout",
     "output_type": "stream",
     "text": [
      "Вот вопрос:\n",
      "В каком рейтинге (по состоянию на 2021 год) ИТМО впервые вошёл в топ-400 мировых университетов?\n"
     ]
    }
   ],
   "source": [
    "query_no_answers = \"В каком рейтинге (по состоянию на 2021 год) ИТМО впервые вошёл в топ-400 мировых университетов?\"\n",
    "\n",
    "test_qno_answers = preprocess_user_q_no_answers(query_no_answers)\n",
    "print(test_qno_answers)"
   ]
  },
  {
   "cell_type": "code",
   "execution_count": 202,
   "metadata": {},
   "outputs": [],
   "source": [
    "# result = graph.invoke({\"question\": test_q})\n",
    "result = graph.invoke({\"question\": test_qno_answers})"
   ]
  },
  {
   "cell_type": "code",
   "execution_count": 207,
   "metadata": {},
   "outputs": [
    {
     "name": "stdout",
     "output_type": "stream",
     "text": [
      "Вот вопрос:\n",
      "В каком городе находится ИТМО?\n",
      "{'question': 'Вот вопрос:\\nВ каком городе находится ИТМО?', 'context': [Document(id='f1100b79-3c69-4588-a981-c756f7aff68d', metadata={'source': 'https://news.itmo.ru/ru/education/students/news/13285/'}, page_content='Прочитайте также:\\nКак поехать учиться в другую страну за счет государства. Опыт студента ИТМО, отправившегося в Китай\\nИТМО ― снова в топ-100 университетов мира в предметном рейтинге QS по компьютерным наукам\\n\\n\\n\\nГлавный корпус ИТМО располагается на Петроградском острове, который входит в исторический центр Санкт-Петербурга. Фото: ITMO'), Document(id='eb4d0bb9-8db5-4eae-8be9-2c9899966705', metadata={'source': 'https://news.itmo.ru/ru/startups_and_business/business_success/news/9796/'}, page_content='Университет ИТМО'), Document(id='5267cf38-0e9b-4a46-87dc-c7fdec7a29e7', metadata={'source': 'https://news.itmo.ru/ru/university_live/ratings/news/9982/'}, page_content='Университет ИТМО'), Document(id='23f110c6-cad5-42aa-b3a5-1eddf883f765', metadata={'source': 'https://news.itmo.ru/ru/startups_and_business/partnership/news/12293/'}, page_content='Одна из задач наблюдательного совета ИТМО — помогать в разработке и реализации стратегии развития университета, в которую входит в том числе строительство ИТМО Хайпарка: комплексного научно-образовательного и инновационного центра мирового уровня, который расположится в городе-спутнике Южный.\\n\\n«ИТМО Хайпарк — это драйвер развития университета. 3600 магистрантов и аспирантов переедет во второй кампус, но при этом мы подчеркиваем, что ИТМО только расширяется: у нас появятся дополнительные ресурсы и мощности, которых нам сейчас не хватает для дальнейшего развития», — отметила руководитель Программы развития и первый проректор Университета ИТМО Дарья Козлова.\\n\\n\\n\\nЗаседание наблюдательного совета Университета ИТМО в офисе «Яндекса» в Москве. Фото: Евгений Золотарев\\n\\n\\nПо мнению председателя правления УК «РОСНАНО» и наблюдательного совета ИТМО Сергея Куликова, в проектах, подобных ИТМО Хайпарку, важно реализовывать современные решения таким образом, чтобы в дальнейшем их можно было тиражировать:')], 'answer': 'Университет ИТМО находится в Санкт-Петербурге. Главный корпус расположен на Петроградском острове, который является частью исторического центра города.'}\n"
     ]
    }
   ],
   "source": [
    "query_no_answers = \"В каком городе находится ИТМО?\"\n",
    "\n",
    "test_qno_answers = preprocess_user_q_no_answers(query_no_answers)\n",
    "print(test_qno_answers)\n",
    "result = graph.invoke({\"question\": test_qno_answers})\n",
    "print(result)"
   ]
  },
  {
   "cell_type": "code",
   "execution_count": 205,
   "metadata": {},
   "outputs": [
    {
     "name": "stdout",
     "output_type": "stream",
     "text": [
      "********************\n",
      "None\n",
      "ИТМО впервые вошёл в топ-400 мировых университетов по состоянию на 2021 год в рейтинге RUR Technical Sciences World University Ranking, заняв 41-е место. В этом рейтинге в 2021 году было представлено 790 ведущих мировых университетов в области технических наук.\n",
      "['https://news.itmo.ru/ru/university_live/ratings/news/12778/', 'https://news.itmo.ru/ru/university_live/ratings/news/13236/', 'https://news.itmo.ru/ru/university_live/ratings/news/12551/']\n"
     ]
    }
   ],
   "source": [
    "def process_answer_model(answer : str, sources : list):\n",
    "    parts = answer.split('\\n')\n",
    "    id_answer = int(parts[0].split('1. ')[1])\n",
    "    reasoning = parts[1].split('2. ')[1]\n",
    "    links = list(set([doc.metadata['source'] for doc in sources]) )[:3]\n",
    "\n",
    "    return id_answer, reasoning, links\n",
    "\n",
    "def process_answer_model_no_answers(answer : str, sources : list):\n",
    "    reasoning = answer\n",
    "    id_answer = None\n",
    "    links = list(set([doc.metadata['source'] for doc in sources]) )[:3]\n",
    "\n",
    "    return id_answer, reasoning, links\n",
    "\n",
    "process_answer_model_no_answers(result[\"answer\"], result['context'])\n",
    "id_answer, reasoning, links_raw_str = process_answer_model_no_answers(result[\"answer\"], result['context'])\n",
    "print('*'*20)\n",
    "print(id_answer)\n",
    "print(reasoning)\n",
    "print(links_raw_str)"
   ]
  },
  {
   "cell_type": "code",
   "execution_count": null,
   "metadata": {},
   "outputs": [],
   "source": []
  },
  {
   "cell_type": "code",
   "execution_count": 189,
   "metadata": {},
   "outputs": [
    {
     "data": {
      "text/plain": [
       "'Вот вопрос и варианты ответов:\\nВ каком рейтинге (по состоянию на 2021 год) ИТМО впервые вошёл в топ-400 мировых университетов?\\n1. ARWU (Shanghai Ranking)\\n2. Times Higher Education (THE) World University Rankings\\n3. QS World University Rankings\\n4. U.S. News & World Report Best Global Universities\\nВыведи ответ в таком формате:\\n1. {правильныя цифра ответа}\\n2. {развернутое и подробное объяснение почему этот ответ правильный}\\n'"
      ]
     },
     "execution_count": 189,
     "metadata": {},
     "output_type": "execute_result"
    }
   ],
   "source": [
    "from langgraph.graph import Graph\n",
    "from fastapi import FastAPI\n",
    "import uvicorn\n",
    "# ! pip install langserve\n",
    "from fastapi import FastAPI\n",
    "from langserve import add_routes\n",
    "from langchain_core.runnables import RunnableLambda\n",
    "\n",
    "def inp(question: str) -> dict:\n",
    "    question_ = preprocess_user_q(question)\n",
    "    return {\"question\": list({question_})}\n",
    "\n",
    "\n",
    "def out(value: dict):\n",
    "    result = value\n",
    "    return result\n",
    "\n",
    "\n",
    "final_chain = RunnableLambda(inp) | graph | RunnableLambda(out)\n",
    "test_q"
   ]
  },
  {
   "cell_type": "code",
   "execution_count": 190,
   "metadata": {},
   "outputs": [
    {
     "data": {
      "text/plain": [
       "<coroutine object RunnableSequence.ainvoke at 0x7f14cd26c440>"
      ]
     },
     "execution_count": 190,
     "metadata": {},
     "output_type": "execute_result"
    }
   ],
   "source": [
    "final_chain.ainvoke({\"question\" : test_q})"
   ]
  },
  {
   "cell_type": "code",
   "execution_count": null,
   "metadata": {},
   "outputs": [],
   "source": [
    "async for output in rag_chain.astream(inputs, stream_mode=\"updates\"):\n",
    "    # stream_mode=\"updates\" yields dictionaries with output keyed by node name\n",
    "    for key, value in output.items():\n",
    "        print(f\"Output from node '{key}':\")\n",
    "        print(\"---\")\n",
    "        print(value[\"messages\"][-1].pretty_print())\n",
    "    print(\"\\n---\\n\")"
   ]
  },
  {
   "cell_type": "code",
   "execution_count": null,
   "metadata": {},
   "outputs": [],
   "source": []
  },
  {
   "cell_type": "code",
   "execution_count": null,
   "metadata": {},
   "outputs": [],
   "source": []
  },
  {
   "cell_type": "code",
   "execution_count": 180,
   "metadata": {},
   "outputs": [
    {
     "name": "stderr",
     "output_type": "stream",
     "text": [
      "/tmp/ipykernel_32573/3333833504.py:4: RuntimeWarning: coroutine 'RunnableSequence.ainvoke' was never awaited\n",
      "  res = rag_chain.ainvoke(test_q)\n",
      "RuntimeWarning: Enable tracemalloc to get the object allocation traceback\n"
     ]
    }
   ],
   "source": [
    "\n",
    "\n",
    "# user_q = \"В каком городе находится главный кампус Университета ИТМО?\\n1. Москва\\n2. Санкт-Петербург\\n3. Екатеринбург\\n4. Нижний Новгород\"\n",
    "user_q = \"В каком рейтинге (по состоянию на 2021 год) ИТМО впервые вошёл в топ-400 мировых университетов?\\n1. ARWU (Shanghai Ranking)\\n2. Times Higher Education (THE) World University Rankings\\n3. QS World University Rankings\\n4. U.S. News & World Report Best Global Universities\"\n",
    "test_q = preprocess_user_q(user_q)\n",
    "res = rag_chain.ainvoke(test_q)\n",
    "# pprint(res)"
   ]
  },
  {
   "cell_type": "code",
   "execution_count": 181,
   "metadata": {},
   "outputs": [],
   "source": [
    "\n"
   ]
  },
  {
   "cell_type": "code",
   "execution_count": null,
   "metadata": {},
   "outputs": [],
   "source": []
  },
  {
   "cell_type": "code",
   "execution_count": null,
   "metadata": {},
   "outputs": [],
   "source": []
  },
  {
   "cell_type": "code",
   "execution_count": 32,
   "metadata": {},
   "outputs": [
    {
     "name": "stdout",
     "output_type": "stream",
     "text": [
      "1. 3  \n",
      "2. Университет ИТМО впервые вошел в мировой ТОП-400 вузов в рейтинге QS World University Rankings, что подтверждается ростом его позиций в этом авторитетном рейтинге, публикуемом компанией Quacquarelli Symonds. Этот рейтинг считается одним из самых влиятельных в сфере высшего образования и привлекает внимание множества университетов по всему миру.  \n",
      "3. [ИТМО](https://itmo.ru/en/news/10527/itmo_university_first_time_in_top_400_of_qs_world_university_rankings.htm)\n"
     ]
    }
   ],
   "source": [
    "print(res)"
   ]
  },
  {
   "cell_type": "code",
   "execution_count": 34,
   "metadata": {},
   "outputs": [
    {
     "name": "stdout",
     "output_type": "stream",
     "text": [
      "('1. 3  \\n'\n",
      " '2. Университет ИТМО впервые вошел в мировой ТОП-400 вузов в рейтинге QS '\n",
      " 'World University Rankings, что свидетельствует о его значительном росте и '\n",
      " 'признании на международной арене. Этот рейтинг учитывает множество факторов, '\n",
      " 'включая академическую репутацию, качество преподавания и исследования, что '\n",
      " 'делает его одним из наиболее уважаемых в мире.  \\n'\n",
      " '3. [Источник](https://itmo.ru)')\n"
     ]
    }
   ],
   "source": [
    "# user_q = \"В каком городе находится главный кампус Университета ИТМО?\\n1. Москва\\n2. Санкт-Петербург\\n3. Екатеринбург\\n4. Нижний Новгород\"\n",
    "user_q = \"В каком рейтинге (по состоянию на 2021 год) ИТМО впервые вошёл в топ-400 мировых университетов?\\n1. ARWU (Shanghai Ranking)\\n2. Times Higher Education (THE) World University Rankings\\n3. QS World University Rankings\\n4. U.S. News & World Report Best Global Universities\"\n",
    "test_q = preprocess_user_q(user_q)\n",
    "res = rag_chain.invoke(test_q)\n",
    "pprint(res)"
   ]
  },
  {
   "cell_type": "code",
   "execution_count": null,
   "metadata": {},
   "outputs": [],
   "source": []
  },
  {
   "cell_type": "code",
   "execution_count": null,
   "metadata": {},
   "outputs": [],
   "source": []
  },
  {
   "cell_type": "code",
   "execution_count": 191,
   "metadata": {},
   "outputs": [
    {
     "name": "stdout",
     "output_type": "stream",
     "text": [
      "<coroutine object RunnableSequence.ainvoke at 0x7f14c82f4240>\n"
     ]
    }
   ],
   "source": [
    "print(res)"
   ]
  },
  {
   "cell_type": "code",
   "execution_count": 49,
   "metadata": {},
   "outputs": [
    {
     "name": "stdout",
     "output_type": "stream",
     "text": [
      "\n",
      "Выведи ответ в таком формате:\n",
      "1. {правильныя цифра ответа}\n",
      "2. {объяснение почему этот ответ правильный}\n",
      "3. Сылки из интернет-источников\n",
      "\n"
     ]
    }
   ],
   "source": [
    "template = \"\\nВыведи ответ в таком формате:\\n1. {правильныя цифра ответа}\\n2. {объяснение почему этот ответ правильный}\\n3. Сылки из интернет-источников\\n\"\n",
    "print(template)"
   ]
  },
  {
   "cell_type": "code",
   "execution_count": null,
   "metadata": {},
   "outputs": [],
   "source": []
  },
  {
   "cell_type": "code",
   "execution_count": 48,
   "metadata": {},
   "outputs": [
    {
     "data": {
      "text/plain": [
       "'2. Главный кампус Университета ИТМО находится в Санкт-Петербурге, Россия. Это подтверждается информацией, указанной в контексте.'"
      ]
     },
     "execution_count": 48,
     "metadata": {},
     "output_type": "execute_result"
    }
   ],
   "source": [
    "res"
   ]
  },
  {
   "cell_type": "code",
   "execution_count": 27,
   "metadata": {},
   "outputs": [
    {
     "name": "stdout",
     "output_type": "stream",
     "text": [
      "как поступить в бакалавриат ИТМО в 2025 году?\n",
      "('Чтобы поступить в бакалавриат ИТМО в 2025 году, необходимо ознакомиться с '\n",
      " 'новыми правилами приема, которые включают возможность подачи согласия на '\n",
      " 'зачисление без физического представления оригиналов документов. Также '\n",
      " 'установлено единое количество направлений для выбора при поступлении. '\n",
      " 'Рекомендуется следить за обновлениями на официальном сайте университета и '\n",
      " 'готовиться к изменениям в процессе приема.')\n"
     ]
    }
   ],
   "source": [
    "print(question_samples[0])\n",
    "pprint(rag_chain.invoke(question_samples[0]))"
   ]
  },
  {
   "cell_type": "code",
   "execution_count": 28,
   "metadata": {},
   "outputs": [
    {
     "name": "stdout",
     "output_type": "stream",
     "text": [
      "с какого года работает Медиагруппа «Мегабайт» итмо?\n",
      "('Медиагруппа «Мегабайт» работает с 2014 года. Она включает в себя '\n",
      " 'интернет-радио, интернет-газету и другие медиаформаты, ориентированные на '\n",
      " 'студентов. Проект поддерживается университетами и правительством города.')\n"
     ]
    }
   ],
   "source": [
    "print(question_samples[1])\n",
    "pprint(rag_chain.invoke(question_samples[1]))"
   ]
  },
  {
   "cell_type": "code",
   "execution_count": null,
   "metadata": {},
   "outputs": [],
   "source": []
  },
  {
   "cell_type": "code",
   "execution_count": null,
   "metadata": {},
   "outputs": [],
   "source": []
  },
  {
   "cell_type": "markdown",
   "metadata": {},
   "source": [
    "### Side hustles"
   ]
  },
  {
   "cell_type": "code",
   "execution_count": 23,
   "metadata": {},
   "outputs": [
    {
     "data": {
      "text/plain": [
       "1024"
      ]
     },
     "execution_count": 23,
     "metadata": {},
     "output_type": "execute_result"
    }
   ],
   "source": [
    "# Documents\n",
    "question = \"How does LangChain handle multi-turn conversations in chat models?\"\n",
    "document = \"LangChain supports chat models that manage complex, multi-turn conversations by maintaining state across interaction turns. This is achieved through structured message handling and conversation memory, which allows for the retention of historical context. Features like structured outputs and JSON-based response formatting further enable seamless integration with downstream applications, making it ideal for context-dependent use cases such as customer support and conversational AI.\"\n",
    "\n",
    "model_name = \"multilingual-e5-large\" # \n",
    "from langchain_pinecone import PineconeEmbeddings\n",
    "embeddings = PineconeEmbeddings(\n",
    "    model=model_name,\n",
    "    pinecone_api_key=pinecone_api_key\n",
    "\n",
    ")\n",
    "document_result = embeddings.embed_query(document)\n"
   ]
  },
  {
   "cell_type": "code",
   "execution_count": 28,
   "metadata": {},
   "outputs": [],
   "source": [
    "splits = text_splitter.split_documents(docs)"
   ]
  },
  {
   "cell_type": "code",
   "execution_count": 29,
   "metadata": {},
   "outputs": [
    {
     "data": {
      "text/plain": [
       "[]"
      ]
     },
     "execution_count": 29,
     "metadata": {},
     "output_type": "execute_result"
    }
   ],
   "source": [
    "splits"
   ]
  },
  {
   "cell_type": "code",
   "execution_count": 27,
   "metadata": {},
   "outputs": [
    {
     "ename": "Exception",
     "evalue": "Invalid type for variable 'inputs'",
     "output_type": "error",
     "traceback": [
      "\u001b[0;31m---------------------------------------------------------------------------\u001b[0m",
      "\u001b[0;31mException\u001b[0m                                 Traceback (most recent call last)",
      "Cell \u001b[0;32mIn[27], line 2\u001b[0m\n\u001b[1;32m      1\u001b[0m splits \u001b[38;5;241m=\u001b[39m text_splitter\u001b[38;5;241m.\u001b[39msplit_documents(docs)\n\u001b[0;32m----> 2\u001b[0m docs_result \u001b[38;5;241m=\u001b[39m \u001b[43membeddings\u001b[49m\u001b[38;5;241;43m.\u001b[39;49m\u001b[43membed_query\u001b[49m\u001b[43m(\u001b[49m\u001b[43msplits\u001b[49m\u001b[43m)\u001b[49m\n",
      "File \u001b[0;32m/usr/local/lib/python3.9/site-packages/langchain_pinecone/embeddings.py:161\u001b[0m, in \u001b[0;36mPineconeEmbeddings.embed_query\u001b[0;34m(self, text)\u001b[0m\n\u001b[1;32m    159\u001b[0m \u001b[38;5;28;01mdef\u001b[39;00m\u001b[38;5;250m \u001b[39m\u001b[38;5;21membed_query\u001b[39m(\u001b[38;5;28mself\u001b[39m, text: \u001b[38;5;28mstr\u001b[39m) \u001b[38;5;241m-\u001b[39m\u001b[38;5;241m>\u001b[39m List[\u001b[38;5;28mfloat\u001b[39m]:\n\u001b[1;32m    160\u001b[0m \u001b[38;5;250m    \u001b[39m\u001b[38;5;124;03m\"\"\"Embed query text.\"\"\"\u001b[39;00m\n\u001b[0;32m--> 161\u001b[0m     \u001b[38;5;28;01mreturn\u001b[39;00m \u001b[38;5;28;43mself\u001b[39;49m\u001b[38;5;241;43m.\u001b[39;49m\u001b[43m_client\u001b[49m\u001b[38;5;241;43m.\u001b[39;49m\u001b[43minference\u001b[49m\u001b[38;5;241;43m.\u001b[39;49m\u001b[43membed\u001b[49m\u001b[43m(\u001b[49m\n\u001b[1;32m    162\u001b[0m \u001b[43m        \u001b[49m\u001b[43mmodel\u001b[49m\u001b[38;5;241;43m=\u001b[39;49m\u001b[38;5;28;43mself\u001b[39;49m\u001b[38;5;241;43m.\u001b[39;49m\u001b[43mmodel\u001b[49m\u001b[43m,\u001b[49m\u001b[43m \u001b[49m\u001b[43mparameters\u001b[49m\u001b[38;5;241;43m=\u001b[39;49m\u001b[38;5;28;43mself\u001b[39;49m\u001b[38;5;241;43m.\u001b[39;49m\u001b[43mquery_params\u001b[49m\u001b[43m,\u001b[49m\u001b[43m \u001b[49m\u001b[43minputs\u001b[49m\u001b[38;5;241;43m=\u001b[39;49m\u001b[43m[\u001b[49m\u001b[43mtext\u001b[49m\u001b[43m]\u001b[49m\n\u001b[1;32m    163\u001b[0m \u001b[43m    \u001b[49m\u001b[43m)\u001b[49m[\u001b[38;5;241m0\u001b[39m][\u001b[38;5;124m\"\u001b[39m\u001b[38;5;124mvalues\u001b[39m\u001b[38;5;124m\"\u001b[39m]\n",
      "File \u001b[0;32m/usr/local/lib/python3.9/site-packages/pinecone_plugins/inference/inference.py:75\u001b[0m, in \u001b[0;36mInference.embed\u001b[0;34m(self, model, inputs, parameters)\u001b[0m\n\u001b[1;32m     73\u001b[0m         embeddings_inputs \u001b[38;5;241m=\u001b[39m [EmbedRequestInputs(\u001b[38;5;241m*\u001b[39m\u001b[38;5;241m*\u001b[39mi) \u001b[38;5;28;01mfor\u001b[39;00m i \u001b[38;5;129;01min\u001b[39;00m inputs]\n\u001b[1;32m     74\u001b[0m     \u001b[38;5;28;01melse\u001b[39;00m:\n\u001b[0;32m---> 75\u001b[0m         \u001b[38;5;28;01mraise\u001b[39;00m \u001b[38;5;167;01mException\u001b[39;00m(\u001b[38;5;124m\"\u001b[39m\u001b[38;5;124mInvalid type for variable \u001b[39m\u001b[38;5;124m'\u001b[39m\u001b[38;5;124minputs\u001b[39m\u001b[38;5;124m'\u001b[39m\u001b[38;5;124m\"\u001b[39m)\n\u001b[1;32m     76\u001b[0m \u001b[38;5;28;01melse\u001b[39;00m:\n\u001b[1;32m     77\u001b[0m     \u001b[38;5;28;01mraise\u001b[39;00m \u001b[38;5;167;01mException\u001b[39;00m(\u001b[38;5;124m\"\u001b[39m\u001b[38;5;124mInvalid type for variable \u001b[39m\u001b[38;5;124m'\u001b[39m\u001b[38;5;124minputs\u001b[39m\u001b[38;5;124m'\u001b[39m\u001b[38;5;124m\"\u001b[39m)\n",
      "\u001b[0;31mException\u001b[0m: Invalid type for variable 'inputs'"
     ]
    }
   ],
   "source": [
    "\n",
    "docs_result = embeddings.embed_query(splits)\n"
   ]
  },
  {
   "cell_type": "code",
   "execution_count": 24,
   "metadata": {},
   "outputs": [
    {
     "data": {
      "text/plain": [
       "1024"
      ]
     },
     "execution_count": 24,
     "metadata": {},
     "output_type": "execute_result"
    }
   ],
   "source": [
    "len(document_result)"
   ]
  },
  {
   "cell_type": "code",
   "execution_count": null,
   "metadata": {},
   "outputs": [],
   "source": []
  }
 ],
 "metadata": {
  "kernelspec": {
   "display_name": "Python 3",
   "language": "python",
   "name": "python3"
  },
  "language_info": {
   "codemirror_mode": {
    "name": "ipython",
    "version": 3
   },
   "file_extension": ".py",
   "mimetype": "text/x-python",
   "name": "python",
   "nbconvert_exporter": "python",
   "pygments_lexer": "ipython3",
   "version": "3.9.21"
  }
 },
 "nbformat": 4,
 "nbformat_minor": 2
}
